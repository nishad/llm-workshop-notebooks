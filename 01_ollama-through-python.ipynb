{
 "cells": [
  {
   "cell_type": "code",
   "execution_count": null,
   "id": "c4d57c5a-90ce-4772-a3ca-1b5c3d7a463d",
   "metadata": {
    "scrolled": true
   },
   "outputs": [],
   "source": [
    "!pip install ollama"
   ]
  },
  {
   "cell_type": "code",
   "execution_count": null,
   "id": "9027a733-39ea-478a-81d8-a8d3b51b0f25",
   "metadata": {},
   "outputs": [],
   "source": [
    "import ollama\n",
    "response=ollama.generate(model='llama3.2', prompt='Why is the sky blue?')\n",
    "print(response)"
   ]
  },
  {
   "cell_type": "code",
   "execution_count": null,
   "id": "5c53aa4c-25a8-4772-96fd-01e886196648",
   "metadata": {},
   "outputs": [],
   "source": [
    "import pprint\n",
    "pp = pprint.PrettyPrinter(indent=4)\n",
    "pp.pprint(response.response)"
   ]
  },
  {
   "cell_type": "code",
   "execution_count": null,
   "id": "8f14592a-c6a4-415f-94be-10e0fa8bea31",
   "metadata": {},
   "outputs": [],
   "source": [
    "from ollama import chat\n",
    "stream = chat(\n",
    "    model='llama3.2',\n",
    "    messages=[{'role': 'user', 'content': 'Why is the sky blue?'}],\n",
    "    stream=True,\n",
    ")\n",
    "\n",
    "for chunk in stream:\n",
    "  print(chunk['message']['content'], end='', flush=True)"
   ]
  },
  {
   "cell_type": "code",
   "execution_count": null,
   "id": "aa69d1fd-1c77-4fd3-9284-389569a09a73",
   "metadata": {},
   "outputs": [],
   "source": []
  }
 ],
 "metadata": {
  "kernelspec": {
   "display_name": "Python 3 (ipykernel)",
   "language": "python",
   "name": "python3"
  },
  "language_info": {
   "codemirror_mode": {
    "name": "ipython",
    "version": 3
   },
   "file_extension": ".py",
   "mimetype": "text/x-python",
   "name": "python",
   "nbconvert_exporter": "python",
   "pygments_lexer": "ipython3",
   "version": "3.12.5"
  }
 },
 "nbformat": 4,
 "nbformat_minor": 5
}
